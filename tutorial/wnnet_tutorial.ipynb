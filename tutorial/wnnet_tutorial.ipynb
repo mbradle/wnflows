{
 "cells": [
  {
   "cell_type": "markdown",
   "metadata": {},
   "source": [
    "# This tutorial illustrates the usage of wnnet."
   ]
  },
  {
   "cell_type": "markdown",
   "metadata": {},
   "source": [
    "Begin by installing necessary packages."
   ]
  },
  {
   "cell_type": "code",
   "execution_count": 1,
   "metadata": {},
   "outputs": [],
   "source": [
    "import sys\n",
    "!{sys.executable} -m pip install --quiet requests\n",
    "#!{sys.executable} -m pip install --quiet wnnet"
   ]
  },
  {
   "cell_type": "markdown",
   "metadata": {},
   "source": [
    "Next, import the necessary packages:"
   ]
  },
  {
   "cell_type": "code",
   "execution_count": 2,
   "metadata": {},
   "outputs": [],
   "source": [
    "import wnnet as wn\n",
    "import os, io, requests\n",
    "import networkx as nx\n",
    "from IPython.display import Image"
   ]
  },
  {
   "cell_type": "markdown",
   "metadata": {},
   "source": [
    "Now install [pygraphviz](https://pygraphviz.github.io), which is needed for viewing the graphs.  To do so, we must first install the linux *graphviz* and *graphviz-dev* packages.  If you are running on your own system, you may have to change the installer from *apt* to something else like *dnf* or *port*.  See the [pygraphviz installation](https://pygraphviz.github.io/documentation/stable/install.html) page."
   ]
  },
  {
   "cell_type": "code",
   "execution_count": 3,
   "metadata": {},
   "outputs": [],
   "source": [
    "!apt-get -qq install graphviz &> /dev/null\n",
    "!apt-get -qq install libgraphviz-dev &> /dev/null\n",
    "!{sys.executable} -m pip install --quiet pygraphviz"
   ]
  },
  {
   "cell_type": "markdown",
   "metadata": {},
   "source": [
    "### Physical constants"
   ]
  },
  {
   "cell_type": "markdown",
   "metadata": {},
   "source": [
    "This module contains the physical constants such as the speed of light and Boltzmann's constant used in the calculations for the wnnet package.  Those constants are defined the [gslconsts](https://gslconsts.readthedocs.io) package.  That package imports cgs versions of the constants defined in the GNU Scientific Library (GSL).  Webnucleo codes use cgs constants from GSL, so, for consistency, the wnnet package uses the same constants.  All of the GSL constants, as defined in [gslconsts](https://gslconsts.readthedocs.io), are available in the wnnet package, but a handful of particularly useful ones are defined with shorter abbreviations, as illustrated in the next cell."
   ]
  },
  {
   "cell_type": "code",
   "execution_count": 4,
   "metadata": {},
   "outputs": [
    {
     "name": "stdout",
     "output_type": "stream",
     "text": [
      "Speed of light in cm/s: 29979245800.0\n",
      "Conversion of ergs to Mev: 624150.9647120418\n",
      "Conversion of MeV to ergs: 1.602176487e-06\n",
      "Boltzmann's Constant (ergs/K): 1.3806504e-16\n",
      "Mass of Electron (g): 9.10938188e-28\n",
      "Mass of 1 AMU (g): 1.660538782e-24\n",
      "Avogadro's constant: 6.02214199e+23\n",
      "Planck's constant divided by 2pi (erg-s): 1.05457162825e-27\n",
      "Electron rest mass energy (MeV): 0.5109988947017501\n",
      "AMU rest mass energy (MeV): 931.4940282330006\n"
     ]
    }
   ],
   "source": [
    "print('Speed of light in cm/s:', wn.consts.c)\n",
    "print('Conversion of ergs to Mev:', wn.consts.ergs_to_MeV)\n",
    "print('Conversion of MeV to ergs:', wn.consts.MeV_to_ergs)\n",
    "print('Boltzmann\\'s Constant (ergs/K):', wn.consts.k_B)\n",
    "print('Mass of Electron (g):', wn.consts.m_e)\n",
    "print('Mass of 1 AMU (g):', wn.consts.u)\n",
    "print('Avogadro\\'s constant:', wn.consts.N_A)\n",
    "print('Planck\\'s constant divided by 2pi (erg-s):', wn.consts.hbar)\n",
    "print('Electron rest mass energy (MeV):', wn.consts.m_e_in_MeV)\n",
    "print('AMU rest mass energy (MeV):', wn.consts.m_u_in_MeV)"
   ]
  },
  {
   "cell_type": "markdown",
   "metadata": {},
   "source": [
    "### View and compute nuclide data"
   ]
  },
  {
   "cell_type": "markdown",
   "metadata": {},
   "source": [
    "Frist, create a network instance that includes all of the nuclear and reaction data. Here we read the data from an example file from [OSF](https://osf.io/4gmyr/).  Alternatively, you can read a local file (called *out.xml*) as shown in the commented command."
   ]
  },
  {
   "cell_type": "code",
   "execution_count": 5,
   "metadata": {},
   "outputs": [],
   "source": [
    "net = wn.net.Net(io.BytesIO(requests.get('https://osf.io/4gmyr/download').content))\n",
    "#net = wn.net.Net('out.xml')"
   ]
  },
  {
   "cell_type": "markdown",
   "metadata": {},
   "source": [
    "The wnnet package inherits the classes from [wnutils](https://wnutils.readthedocs.io).  Thus, once the network is available, you can retrieve the nuclde data from the webnucleo XML file, as one does in [wnutils](https://wnutils.readthedocs.io), by typing:"
   ]
  },
  {
   "cell_type": "code",
   "execution_count": 6,
   "metadata": {},
   "outputs": [],
   "source": [
    "nuclides = net.get_nuclides()"
   ]
  },
  {
   "cell_type": "markdown",
   "metadata": {},
   "source": [
    "This returns a dictionary of data with the key being the nuclide name. Here we will show the first two nuclides. For each nuclide, the attributes are nuclide name, z, n, a and et al, which can be found below. "
   ]
  },
  {
   "cell_type": "code",
   "execution_count": 7,
   "metadata": {},
   "outputs": [
    {
     "name": "stdout",
     "output_type": "stream",
     "text": [
      "Nuclide Name : h2\n",
      "z : 1\n",
      "a : 2\n",
      "n : 1\n",
      "state : \n",
      "source : ame11\n",
      "mass excess : 13.136\n",
      "spin : 1.0\n",
      "t9 : [ 0.1   0.15  0.2   0.3   0.4   0.5   0.6   0.7   0.8   0.9   1.    1.5\n",
      "  2.    2.5   3.    3.5   4.    4.5   5.    6.    7.    8.    9.   10.  ]\n",
      "partf : [3. 3. 3. 3. 3. 3. 3. 3. 3. 3. 3. 3. 3. 3. 3. 3. 3. 3. 3. 3. 3. 3. 3. 3.]\n",
      "\n",
      "Nuclide Name : he3\n",
      "z : 2\n",
      "a : 3\n",
      "n : 1\n",
      "state : \n",
      "source : ame11\n",
      "mass excess : 14.931\n",
      "spin : 0.5\n",
      "t9 : [ 0.1   0.15  0.2   0.3   0.4   0.5   0.6   0.7   0.8   0.9   1.    1.5\n",
      "  2.    2.5   3.    3.5   4.    4.5   5.    6.    7.    8.    9.   10.  ]\n",
      "partf : [2. 2. 2. 2. 2. 2. 2. 2. 2. 2. 2. 2. 2. 2. 2. 2. 2. 2. 2. 2. 2. 2. 2. 2.]\n",
      "\n"
     ]
    }
   ],
   "source": [
    "example = list(nuclides.items())[:2]\n",
    "\n",
    "for keys, nuclide in example:\n",
    "    print('Nuclide Name :', keys)\n",
    "    for attribute, value in nuclide.items():\n",
    "        print('{} : {}'.format(attribute, value))\n",
    "    print()"
   ]
  },
  {
   "cell_type": "markdown",
   "metadata": {},
   "source": [
    "You may print out all the data for a specific nuclide, say, o16, by typing:"
   ]
  },
  {
   "cell_type": "code",
   "execution_count": 8,
   "metadata": {},
   "outputs": [
    {
     "name": "stdout",
     "output_type": "stream",
     "text": [
      "{'z': 8, 'a': 16, 'n': 8, 'state': '', 'source': 'ame11', 'mass excess': -4.737, 'spin': 0.0, 't9': array([ 0.1 ,  0.15,  0.2 ,  0.3 ,  0.4 ,  0.5 ,  0.6 ,  0.7 ,  0.8 ,\n",
      "        0.9 ,  1.  ,  1.5 ,  2.  ,  2.5 ,  3.  ,  3.5 ,  4.  ,  4.5 ,\n",
      "        5.  ,  6.  ,  7.  ,  8.  ,  9.  , 10.  ]), 'partf': array([1., 1., 1., 1., 1., 1., 1., 1., 1., 1., 1., 1., 1., 1., 1., 1., 1.,\n",
      "       1., 1., 1., 1., 1., 1., 1.])}\n"
     ]
    }
   ],
   "source": [
    "print(nuclides['o16'])"
   ]
  },
  {
   "cell_type": "markdown",
   "metadata": {},
   "source": [
    "To get a specific property of a nuclide, like mass excess or data source, try typing:"
   ]
  },
  {
   "cell_type": "code",
   "execution_count": 9,
   "metadata": {},
   "outputs": [
    {
     "name": "stdout",
     "output_type": "stream",
     "text": [
      "-4.737\n",
      "ame11\n"
     ]
    }
   ],
   "source": [
    "print(nuclides['o16']['mass excess'])\n",
    "print(nuclides['o16']['source'])"
   ]
  },
  {
   "cell_type": "markdown",
   "metadata": {},
   "source": [
    "To get the arrays giving temperatures and partition functions at those temperatures for a given species, type:"
   ]
  },
  {
   "cell_type": "code",
   "execution_count": 10,
   "metadata": {},
   "outputs": [
    {
     "name": "stdout",
     "output_type": "stream",
     "text": [
      "Temperature in GK : [ 0.1   0.15  0.2   0.3   0.4   0.5   0.6   0.7   0.8   0.9   1.    1.5\n",
      "  2.    2.5   3.    3.5   4.    4.5   5.    6.    7.    8.    9.   10.  ]\n",
      "Partition function : [ 8.          8.          8.          8.          8.          8.\n",
      "  8.          8.          8.          8.          8.          8.\n",
      "  8.          8.          8.          8.          8.07999993  8.07999993\n",
      "  8.15999997  8.48000068  9.12000102 10.24000072 11.99999284 14.63999698]\n"
     ]
    }
   ],
   "source": [
    "print('Temperature in GK :', nuclides['ca41']['t9'])\n",
    "print('Partition function :', nuclides['ca41']['partf'])"
   ]
  },
  {
   "cell_type": "markdown",
   "metadata": {},
   "source": [
    "We can also compute the partition function for a nuclide at a specific temperature, as interpolated from the arrays, by typing:"
   ]
  },
  {
   "cell_type": "code",
   "execution_count": 11,
   "metadata": {},
   "outputs": [
    {
     "name": "stdout",
     "output_type": "stream",
     "text": [
      "The partition function of ca41 at temperature T9 = 6.7 is : 8.884333042159062\n"
     ]
    }
   ],
   "source": [
    "pf = net.compute_nuclear_partition_function('ca41', 6.7)\n",
    "print('The partition function of ca41 at temperature T9 = 6.7 is :', pf)"
   ]
  },
  {
   "cell_type": "markdown",
   "metadata": {},
   "source": [
    "To get the quantum abundance of the nuclide at the input temperature (GK) and density (g/cc)."
   ]
  },
  {
   "cell_type": "code",
   "execution_count": 12,
   "metadata": {},
   "outputs": [
    {
     "name": "stdout",
     "output_type": "stream",
     "text": [
      "The quantum abundance of o16 at T9 = 0.2 and $\\rho$ = 10 is : 5646352130.47\n"
     ]
    }
   ],
   "source": [
    "Y_Q = net.compute_quantum_abundance('o16', 0.2, 10)\n",
    "print('The quantum abundance of o16 at T9 = 0.2 and $\\\\rho$ = 10 is :', '{:.2f}'.format(Y_Q))"
   ]
  },
  {
   "cell_type": "markdown",
   "metadata": {},
   "source": [
    "You can also compute the binding energy (MeV) of a species by typing."
   ]
  },
  {
   "cell_type": "code",
   "execution_count": 13,
   "metadata": {},
   "outputs": [
    {
     "name": "stdout",
     "output_type": "stream",
     "text": [
      "The binding energy of ca40 is 342.046 MeV.\n"
     ]
    }
   ],
   "source": [
    "B = net.compute_binding_energy('ca40')\n",
    "print('The binding energy of ca40 is', B, 'MeV.')"
   ]
  },
  {
   "cell_type": "markdown",
   "metadata": {},
   "source": [
    "### Reaction data\n",
    "You can retrieve the reaction data from the network by typing:"
   ]
  },
  {
   "cell_type": "code",
   "execution_count": 14,
   "metadata": {},
   "outputs": [],
   "source": [
    "reactions = net.get_reactions()"
   ]
  },
  {
   "cell_type": "markdown",
   "metadata": {},
   "source": [
    "This returns a dictionary with the key being the reaction string and the value being a [wnutils](https://wnutils.readthedocs.io) reaction. To see a list of the reactions (here shows the first four reactions), type:"
   ]
  },
  {
   "cell_type": "code",
   "execution_count": 15,
   "metadata": {},
   "outputs": [
    {
     "name": "stdout",
     "output_type": "stream",
     "text": [
      "('h1 + cd101 -> he4 + ag98', <wnutils.xml.Reaction object at 0x10e6ee510>)\n",
      "('nd135 -> pr135 + positron + neutrino_e', <wnutils.xml.Reaction object at 0x11e5c0d10>)\n",
      "('n + pr128 -> h1 + ce128', <wnutils.xml.Reaction object at 0x11e6e3a90>)\n",
      "('n + nd146 -> nd147 + gamma', <wnutils.xml.Reaction object at 0x11e6e3cd0>)\n"
     ]
    }
   ],
   "source": [
    "for r in list(reactions.items())[0:4]:\n",
    "    print(r)"
   ]
  },
  {
   "cell_type": "markdown",
   "metadata": {},
   "source": [
    "You can also check whether a reaction is weak reaction or not, by typing:"
   ]
  },
  {
   "cell_type": "code",
   "execution_count": 16,
   "metadata": {},
   "outputs": [
    {
     "name": "stdout",
     "output_type": "stream",
     "text": [
      "h1 + cd101 -> he4 + ag98\n",
      "False\n",
      "nd135 -> pr135 + positron + neutrino_e\n",
      "True\n",
      "n + pr128 -> h1 + ce128\n",
      "False\n",
      "n + nd146 -> nd147 + gamma\n",
      "False\n"
     ]
    }
   ],
   "source": [
    "for r, value in list(reactions.items())[:4]:\n",
    "    print(r)\n",
    "    print(net.is_weak_reaction(r))\n"
   ]
  },
  {
   "cell_type": "markdown",
   "metadata": {},
   "source": [
    "You can use an XPath expression to select the reactions with specific reactants and products. For example, you can type:"
   ]
  },
  {
   "cell_type": "code",
   "execution_count": 17,
   "metadata": {},
   "outputs": [],
   "source": [
    "induced_reac_xpath = \"[(reactant = 'n' and product = 'gamma') or (product = 'electron') or (reactant = 'electron') or (product = 'positron')]\"\n",
    "induced_reactions = net.get_reactions(reac_xpath=induced_reac_xpath)"
   ]
  },
  {
   "cell_type": "markdown",
   "metadata": {},
   "source": [
    "This will return a dictionary of reactions that includes the specific reactants and products. We can print it (the first four) out by typing:"
   ]
  },
  {
   "cell_type": "code",
   "execution_count": 18,
   "metadata": {},
   "outputs": [
    {
     "name": "stdout",
     "output_type": "stream",
     "text": [
      "reaction : nd135 -> pr135 + positron + neutrino_e\n",
      "reaction : n + nd146 -> nd147 + gamma\n",
      "reaction : n + tc94 -> tc95 + gamma\n",
      "reaction : n + ca47 -> ca48 + gamma\n"
     ]
    }
   ],
   "source": [
    "for key, value in list(induced_reactions.items())[:4]:\n",
    "    print('reaction :', key)"
   ]
  },
  {
   "cell_type": "markdown",
   "metadata": {},
   "source": [
    "You may choose a particular reaction from the dictionary and see the properties of this reaction by typing:"
   ]
  },
  {
   "cell_type": "code",
   "execution_count": 19,
   "metadata": {},
   "outputs": [
    {
     "name": "stdout",
     "output_type": "stream",
     "text": [
      "Reactants : ['n', 'ni56']\n",
      "Products : ['ni57', 'gamma']\n",
      "Source : ths8\n"
     ]
    }
   ],
   "source": [
    "reac = reactions['n + ni56 -> ni57 + gamma']\n",
    "print('Reactants :', reac.reactants)\n",
    "print('Products :', reac.products)\n",
    "print('Source :', reac.source)"
   ]
  },
  {
   "cell_type": "markdown",
   "metadata": {},
   "source": [
    "You can also compute the rate for the reaction above (among interacting multiplets and assuming one of the standard rate forms single_rate, rate_table, or non_smoker_fit) at a variety of temperatures by typing:"
   ]
  },
  {
   "cell_type": "code",
   "execution_count": 20,
   "metadata": {},
   "outputs": [
    {
     "name": "stdout",
     "output_type": "stream",
     "text": [
      "Temperature : 0.01 ;  Reaction rate : 7450015.9754\n",
      "Temperature : 0.02 ;  Reaction rate : 6950522.6940\n",
      "Temperature : 0.05 ;  Reaction rate : 6385499.1035\n",
      "Temperature : 0.10 ;  Reaction rate : 5781506.6789\n",
      "Temperature : 0.22 ;  Reaction rate : 5191946.6311\n",
      "Temperature : 0.46 ;  Reaction rate : 4707323.2685\n",
      "Temperature : 1.00 ;  Reaction rate : 4467881.8713\n",
      "Temperature : 2.15 ;  Reaction rate : 4664719.4468\n",
      "Temperature : 4.64 ;  Reaction rate : 5235307.6220\n",
      "Temperature : 10.00 ;  Reaction rate : 3639565.2466\n"
     ]
    }
   ],
   "source": [
    "import numpy as np\n",
    "t9s = np.power(10., np.linspace(-2, 1, 10))\n",
    "for t9 in t9s:\n",
    "    print('Temperature :', '{:.2f}'.format(t9), '; ', 'Reaction rate :', '{:.4f}'.format(reac.compute_rate(t9))) "
   ]
  },
  {
   "cell_type": "markdown",
   "metadata": {},
   "source": [
    "### Network data\n",
    "One can read a local reaction network by setting reduced nuclides Xpath and reduced reactions Xpath. Here is an example."
   ]
  },
  {
   "cell_type": "code",
   "execution_count": 21,
   "metadata": {},
   "outputs": [],
   "source": [
    "induced_nuc_xpath = \"[(a=1) or (z >= 20 and a - z >= 20 and z <= 25 and a - z <= 25)]\"\n",
    "induced_reac_xpath = \"[(reactant = 'n' and product = 'gamma') or (product = 'electron')]\""
   ]
  },
  {
   "cell_type": "markdown",
   "metadata": {},
   "source": [
    "The first line selects nuclides with proton number larger or equal to 20 and smaller or equal to 25, with neutron number larger or equal to 25 and smaller or equal to 25.  The second chooses reactions with the specified reactants and products."
   ]
  },
  {
   "cell_type": "markdown",
   "metadata": {},
   "source": [
    "With those selected nuclides and their reactions, one can compute the reaction Q values (the amount of energy absorbed or released during the nuclear reaction) by typing:"
   ]
  },
  {
   "cell_type": "code",
   "execution_count": 22,
   "metadata": {},
   "outputs": [],
   "source": [
    "Q_value = net.compute_q_values(induced_nuc_xpath, induced_reac_xpath)"
   ]
  },
  {
   "cell_type": "markdown",
   "metadata": {},
   "source": [
    "This will return a dictionary with keys being the reaction strings and values storing the Q values. The following command shows the first four reactions and the corresponding Q values."
   ]
  },
  {
   "cell_type": "code",
   "execution_count": 23,
   "metadata": {},
   "outputs": [
    {
     "name": "stdout",
     "output_type": "stream",
     "text": [
      "Reaction : n + v46 -> v47 + gamma    Q_value : 13.00 MeV\n",
      "Reaction : n + ca41 -> ca42 + gamma    Q_value : 11.48 MeV\n",
      "Reaction : n + cr48 -> cr49 + gamma    Q_value : 10.58 MeV\n",
      "Reaction : n + ti44 -> ti45 + gamma    Q_value : 9.53 MeV\n",
      "Reaction : n + v47 -> v48 + gamma    Q_value : 10.54 MeV\n",
      "Reaction : n + v44 -> v45 + gamma    Q_value : 15.83 MeV\n",
      "Reaction : ca45 -> sc45 + electron + anti-neutrino_e    Q_value : 0.26 MeV\n",
      "Reaction : n + sc44 -> sc45 + gamma    Q_value : 11.32 MeV\n",
      "Reaction : n + ca43 -> ca44 + gamma    Q_value : 11.13 MeV\n",
      "Reaction : n + mn47 -> mn48 + gamma    Q_value : 14.73 MeV\n"
     ]
    }
   ],
   "source": [
    "for reac, Q in list(Q_value.items())[:10]:\n",
    "    print('Reaction :', reac, '  ', 'Q_value :', '{:.2f} MeV'.format(Q))"
   ]
  },
  {
   "cell_type": "markdown",
   "metadata": {},
   "source": [
    "One can compute the forward and reverse rates of a collection of reactions at a specific temperature. "
   ]
  },
  {
   "cell_type": "code",
   "execution_count": 24,
   "metadata": {},
   "outputs": [],
   "source": [
    "reac_rates = net.compute_rates(2, induced_nuc_xpath, induced_reac_xpath)"
   ]
  },
  {
   "cell_type": "markdown",
   "metadata": {},
   "source": [
    "This will return a dictionary containing the rates.  The key is the reaction string while the value is a two-element tuple with the first element being the forward rate and the second element being the reverse rate. Print out the first several of these."
   ]
  },
  {
   "cell_type": "code",
   "execution_count": 25,
   "metadata": {},
   "outputs": [
    {
     "name": "stdout",
     "output_type": "stream",
     "text": [
      "reaction : n + v46 -> v47 + gamma ; Forward rate : 4.73e+06 ; Reverse rate : 4.11e-17\n",
      "reaction : n + ca41 -> ca42 + gamma ; Forward rate : 3.68e+06 ; Reverse rate : 1.90e-11\n",
      "reaction : n + cr48 -> cr49 + gamma ; Forward rate : 7.92e+06 ; Reverse rate : 1.30e-10\n",
      "reaction : n + ti44 -> ti45 + gamma ; Forward rate : 1.02e+07 ; Reverse rate : 3.25e-08\n",
      "reaction : n + v47 -> v48 + gamma ; Forward rate : 5.38e+06 ; Reverse rate : 8.09e-10\n",
      "reaction : n + v44 -> v45 + gamma ; Forward rate : 8.80e+05 ; Reverse rate : 3.50e-24\n",
      "reaction : ca45 -> sc45 + electron + anti-neutrino_e ; Forward rate : 4.95e-08 ; Reverse rate : 0.00e+00\n",
      "reaction : n + sc44 -> sc45 + gamma ; Forward rate : 6.46e+06 ; Reverse rate : 1.14e-11\n",
      "reaction : n + ca43 -> ca44 + gamma ; Forward rate : 6.09e+06 ; Reverse rate : 2.59e-10\n",
      "reaction : n + mn47 -> mn48 + gamma ; Forward rate : 1.16e+05 ; Reverse rate : 3.22e-22\n"
     ]
    }
   ],
   "source": [
    "for key, values in list(reac_rates.items())[:10]:\n",
    "    print('reaction :', key, ';', 'Forward rate :', '{:.2e}'.format(values[0]), ';', 'Reverse rate :', '{:.2e}'.format(values[1]))"
   ]
  },
  {
   "cell_type": "markdown",
   "metadata": {},
   "source": [
    "### Reaction flows"
   ]
  },
  {
   "cell_type": "markdown",
   "metadata": {},
   "source": [
    "This module calculates the reaction flows in a network based on a given set of mass fractions, input temperature, and density. Here we again use the XML [data](https://osf.io/4gmyr) from [OSF](https://osf.io/zhrfn), but the commented command shows how to use a local file."
   ]
  },
  {
   "cell_type": "code",
   "execution_count": 26,
   "metadata": {},
   "outputs": [],
   "source": [
    "zn = wn.zones.Zones(io.BytesIO(requests.get('https://osf.io/4gmyr/download').content))\n",
    "#zn = wn.zones.Zones(\"out.xml\")"
   ]
  },
  {
   "cell_type": "markdown",
   "metadata": {},
   "source": [
    "To retrieve data objects for all zones, simply execute the command:"
   ]
  },
  {
   "cell_type": "code",
   "execution_count": 27,
   "metadata": {},
   "outputs": [],
   "source": [
    "my_zone_xpath = \"\"\n",
    "zones = zn.get_zones(zone_xpath=my_zone_xpath)"
   ]
  },
  {
   "cell_type": "markdown",
   "metadata": {},
   "source": [
    "When executed, this module will generate a dictionary containing the data for all zones in the network. Each zone in the dictionary will have its zone number and all associated properties. If we only need data for a specific range of zones (for instance, zones 20 to 30), we can retrieve the data objects for those zones by using XPath.  For example, try the following command:"
   ]
  },
  {
   "cell_type": "code",
   "execution_count": 28,
   "metadata": {},
   "outputs": [],
   "source": [
    "my_zone_xpath = \"[position() >= 20 and position() <= 25]\"\n",
    "zones = zn.get_zones(zone_xpath=my_zone_xpath)"
   ]
  },
  {
   "cell_type": "markdown",
   "metadata": {},
   "source": [
    "Now, you can compute the flow data in those selected zones by typing:"
   ]
  },
  {
   "cell_type": "code",
   "execution_count": 29,
   "metadata": {},
   "outputs": [],
   "source": [
    "f = wn.flows.compute_flows_for_zones(net, zones)"
   ]
  },
  {
   "cell_type": "markdown",
   "metadata": {},
   "source": [
    "When executed, this command will generate a dictionary for the selected zones, where each zone will contain a sub-dictionary storing its respective flow data. Specifically, the first three reactions for each zone will be displayed."
   ]
  },
  {
   "cell_type": "code",
   "execution_count": 30,
   "metadata": {},
   "outputs": [
    {
     "name": "stdout",
     "output_type": "stream",
     "text": [
      "Zone Number : 19\n",
      "Reaction : h1 + cd101 -> he4 + ag98\n",
      "Forward flow, Reverse flow: (0.0, 0.0)\n",
      "Reaction : nd135 -> pr135 + positron + neutrino_e\n",
      "Forward flow, Reverse flow: (0.0, 0)\n",
      "Reaction : n + pr128 -> h1 + ce128\n",
      "Forward flow, Reverse flow: (0.0, 0.0)\n",
      "Zone Number : 20\n",
      "Reaction : h1 + cd101 -> he4 + ag98\n",
      "Forward flow, Reverse flow: (0.0, 0.0)\n",
      "Reaction : nd135 -> pr135 + positron + neutrino_e\n",
      "Forward flow, Reverse flow: (0.0, 0)\n",
      "Reaction : n + pr128 -> h1 + ce128\n",
      "Forward flow, Reverse flow: (0.0, 0.0)\n",
      "Zone Number : 21\n",
      "Reaction : h1 + cd101 -> he4 + ag98\n",
      "Forward flow, Reverse flow: (9.48684662536777e-28, 1.5567134840421488e-42)\n",
      "Reaction : nd135 -> pr135 + positron + neutrino_e\n",
      "Forward flow, Reverse flow: (0.0, 0)\n",
      "Reaction : n + pr128 -> h1 + ce128\n",
      "Forward flow, Reverse flow: (0.0, 0.0)\n",
      "Zone Number : 22\n",
      "Reaction : h1 + cd101 -> he4 + ag98\n",
      "Forward flow, Reverse flow: (5.299518987748902e-27, 1.3385241926521424e-37)\n",
      "Reaction : nd135 -> pr135 + positron + neutrino_e\n",
      "Forward flow, Reverse flow: (0.0, 0)\n",
      "Reaction : n + pr128 -> h1 + ce128\n",
      "Forward flow, Reverse flow: (0.0, 0.0)\n",
      "Zone Number : 23\n",
      "Reaction : h1 + cd101 -> he4 + ag98\n",
      "Forward flow, Reverse flow: (1.1752096102602056e-24, 8.123689755467675e-35)\n",
      "Reaction : nd135 -> pr135 + positron + neutrino_e\n",
      "Forward flow, Reverse flow: (0.0, 0)\n",
      "Reaction : n + pr128 -> h1 + ce128\n",
      "Forward flow, Reverse flow: (0.0, 0.0)\n",
      "Zone Number : 24\n",
      "Reaction : h1 + cd101 -> he4 + ag98\n",
      "Forward flow, Reverse flow: (2.0628464691326563e-23, 5.686962530823192e-33)\n",
      "Reaction : nd135 -> pr135 + positron + neutrino_e\n",
      "Forward flow, Reverse flow: (0.0, 0)\n",
      "Reaction : n + pr128 -> h1 + ce128\n",
      "Forward flow, Reverse flow: (0.0, 0.0)\n"
     ]
    }
   ],
   "source": [
    "for key, value in f.items():\n",
    "    print('Zone Number :', key)\n",
    "    for attri, flows in list(value.items())[:3]:\n",
    "        print('Reaction :', attri)\n",
    "        print('Forward flow, Reverse flow:', flows)"
   ]
  },
  {
   "cell_type": "markdown",
   "metadata": {},
   "source": [
    "Typically, we are interested in the reaction flow at a specific time step, rather than calculating all reaction flows. To achieve this, it is necessary to select the appropriate zone to obtain the data for that specific time step."
   ]
  },
  {
   "cell_type": "code",
   "execution_count": 31,
   "metadata": {},
   "outputs": [],
   "source": [
    "zone_20 = zn.get_zones(zone_xpath=\"[position() = 20]\")"
   ]
  },
  {
   "cell_type": "markdown",
   "metadata": {},
   "source": [
    "This will return a dictionary including the zone number 19 and all the properties like temperature, density, mass fraction, timestep et al. For this zone, we can compute abundance flows by typing. "
   ]
  },
  {
   "cell_type": "code",
   "execution_count": 32,
   "metadata": {},
   "outputs": [],
   "source": [
    "f = wn.flows.compute_flows_for_zones(net, zone_20)"
   ]
  },
  {
   "cell_type": "markdown",
   "metadata": {},
   "source": [
    "Upon execution, this command will generate a dictionary with keys representing reaction strings and values consisting of tuples showing the forward and reverse flows for each reaction. To print the first four reactions in zone 20, use the following command:"
   ]
  },
  {
   "cell_type": "code",
   "execution_count": 33,
   "metadata": {},
   "outputs": [
    {
     "name": "stdout",
     "output_type": "stream",
     "text": [
      "Zone Number : 19\n",
      "Reaction : h1 + cd101 -> he4 + ag98\n",
      "Forward flow, Reverse flow: (0.0, 0.0)\n",
      "Reaction : nd135 -> pr135 + positron + neutrino_e\n",
      "Forward flow, Reverse flow: (0.0, 0)\n",
      "Reaction : n + pr128 -> h1 + ce128\n",
      "Forward flow, Reverse flow: (0.0, 0.0)\n",
      "Reaction : n + nd146 -> nd147 + gamma\n",
      "Forward flow, Reverse flow: (0.0, 0.0)\n"
     ]
    }
   ],
   "source": [
    "for key, value in f.items():\n",
    "    print('Zone Number :', key)\n",
    "    for attri, flows in list(value.items())[:4]:\n",
    "        print('Reaction :', attri)\n",
    "        print('Forward flow, Reverse flow:', flows)"
   ]
  },
  {
   "cell_type": "markdown",
   "metadata": {},
   "source": [
    "It is useful to compute the link between the reactants (source node) and products (reverse node) in reactions. In the analysis of branchings, we will use thoes link flows to create branching graph. As an example, we could compute all of the flow links in zone 20. "
   ]
  },
  {
   "cell_type": "code",
   "execution_count": null,
   "metadata": {},
   "outputs": [],
   "source": [
    "f = wn.flows.compute_link_flows_for_zones(net, zone_20, include_dt=True)"
   ]
  },
  {
   "cell_type": "markdown",
   "metadata": {},
   "source": [
    "This will return a dictionary with keys being the reaction string and values being a tuple showing the source node, target node, and the link weight."
   ]
  },
  {
   "cell_type": "code",
   "execution_count": null,
   "metadata": {},
   "outputs": [],
   "source": [
    "for i in f:\n",
    "    print('Zone number :', i)\n",
    "    for key, value in list(f[i].items())[:4]:\n",
    "        print('Reaction :', key)\n",
    "        print('(Source, Target, Weight) :', value)"
   ]
  },
  {
   "cell_type": "markdown",
   "metadata": {},
   "source": [
    "If we would like to compute the link flows for a set of zones, we can replace the zone 20 to a group of zones by typing: "
   ]
  },
  {
   "cell_type": "code",
   "execution_count": null,
   "metadata": {},
   "outputs": [],
   "source": [
    "f = wn.flows.compute_link_flows_for_zones(net, zones, include_dt=True)"
   ]
  },
  {
   "cell_type": "markdown",
   "metadata": {},
   "source": [
    "This will return a dictionary with keys being the zone labels. For each zone, there is a dictionary with keys the reaction strings and values a list of tuples showing (Source, Target, Weight). The commands below show the first two reactions in each zone.  "
   ]
  },
  {
   "cell_type": "code",
   "execution_count": null,
   "metadata": {},
   "outputs": [],
   "source": [
    "for i in f:\n",
    "    print('Zone:', i)\n",
    "    for key, value in list(f[i].items())[:2]:\n",
    "        print(key, \":\", value)\n",
    "    print(\"\\n\")"
   ]
  },
  {
   "cell_type": "markdown",
   "metadata": {},
   "source": [
    "### Network graphs"
   ]
  },
  {
   "cell_type": "markdown",
   "metadata": {},
   "source": [
    "This section will show how to create a network graph. First, we induce a subset of nuclides and reactions to show in the graph."
   ]
  },
  {
   "cell_type": "code",
   "execution_count": null,
   "metadata": {},
   "outputs": [],
   "source": [
    "my_induced_nuc_xpath=\"[z >= 20 and z <= 30 and a - z >= 10 and a - z <= 40]\"\n",
    "my_induced_reac_xpath = \"[(reactant = 'h1' and product = 'gamma') or (product = 'electron') or (reactant = 'electron') or (product = 'positron')]\""
   ]
  },
  {
   "cell_type": "markdown",
   "metadata": {},
   "source": [
    "We can next set the title and corresponding attributes of the graph by typing:"
   ]
  },
  {
   "cell_type": "code",
   "execution_count": null,
   "metadata": {},
   "outputs": [],
   "source": [
    "graph_attributes = {\n",
    "    \"label\": \"My Network Graph\",\n",
    "    \"labelloc\": \"t\",\n",
    "    \"fontsize\": 30,\n",
    "    \"fontcolor\": \"blue\",\n",
    "}"
   ]
  },
  {
   "cell_type": "markdown",
   "metadata": {},
   "source": [
    "We can also set the properties of the edges, vertices, and special vertices in the graph. "
   ]
  },
  {
   "cell_type": "code",
   "execution_count": null,
   "metadata": {},
   "outputs": [],
   "source": [
    "edge_attributes = {\"penwidth\": 2}\n",
    "\n",
    "node_attributes = {\"style\": \"filled\", \"fillcolor\": \"bisque\"}\n",
    "\n",
    "special_attributes = {\n",
    "    \"fe56\": {\"fillcolor\": \"green\", \"shape\": \"oval\", \"style\": \"filled\"}\n",
    "}"
   ]
  },
  {
   "cell_type": "markdown",
   "metadata": {},
   "source": [
    "We can change the properties of the vertices representing the solar species."
   ]
  },
  {
   "cell_type": "code",
   "execution_count": null,
   "metadata": {},
   "outputs": [],
   "source": [
    "solar_attributes = {\"fillcolor\": \"white\", \"style\": \"filled\"}"
   ]
  },
  {
   "cell_type": "markdown",
   "metadata": {},
   "source": [
    "It is often desirable to display different types of reactions in a graph using distinct colors. To accomplish this, a color tuple can be defined to specify the color for specific reaction types."
   ]
  },
  {
   "cell_type": "code",
   "execution_count": null,
   "metadata": {},
   "outputs": [],
   "source": [
    "color_tuples = [\n",
    "    (\"[product = 'electron']\", \"blue\"),\n",
    "    (\"[(reactant = 'electron') or (product = 'positron')]\", \"red\"),\n",
    "]"
   ]
  },
  {
   "cell_type": "markdown",
   "metadata": {},
   "source": [
    "Now, we can create the network graph with all the properties we have set above."
   ]
  },
  {
   "cell_type": "code",
   "execution_count": null,
   "metadata": {},
   "outputs": [],
   "source": [
    "my_graph = wn.graph.create_network_graph(\n",
    "    net,\n",
    "    direction= \"forward\", #\"forward\" or \"reverse\" or \"both\"\n",
    "    induced_nuc_xpath=my_induced_nuc_xpath,\n",
    "    induced_reac_xpath=my_induced_reac_xpath,\n",
    "    reaction_color_tuples=color_tuples,\n",
    "    graph_attributes=graph_attributes,\n",
    "    allow_isolated_species=True,\n",
    "    edge_attributes=edge_attributes,\n",
    "    node_attributes=node_attributes,\n",
    "    solar_node_attributes=solar_attributes,\n",
    "    special_node_attributes=special_attributes,\n",
    ")"
   ]
  },
  {
   "cell_type": "markdown",
   "metadata": {},
   "source": [
    "The graph is a [networkx](https://networkx.org) multidigraph. This graph can then be converted to [graphviz](https://graphviz.org) format and saved using the following command.  Here we save it to *png* format:"
   ]
  },
  {
   "cell_type": "code",
   "execution_count": null,
   "metadata": {},
   "outputs": [],
   "source": [
    "A = nx.nx_agraph.to_agraph(my_graph)\n",
    "A.layout()\n",
    "A.draw('net.png')"
   ]
  },
  {
   "cell_type": "markdown",
   "metadata": {},
   "source": [
    "Next, we view it with the image viewer."
   ]
  },
  {
   "cell_type": "code",
   "execution_count": null,
   "metadata": {},
   "outputs": [],
   "source": [
    "Image(filename=('./net.png'))"
   ]
  },
  {
   "cell_type": "markdown",
   "metadata": {},
   "source": [
    "### Abundance flow graphs"
   ]
  },
  {
   "cell_type": "markdown",
   "metadata": {},
   "source": [
    "This section shows how to create a graph showing the abundance flows between species. Abundance flows are the number of nuclei per nucleon undergoing the reaction per second.  The graph shows the nuclides as graph vertices and reactions as arcs between the vertices.  The thickness of an arc indicates the strength of the given flow in that reaction.\n",
    "\n",
    "First, we specify the nuclides we would like to explore and set the title properties."
   ]
  },
  {
   "cell_type": "code",
   "execution_count": null,
   "metadata": {},
   "outputs": [],
   "source": [
    "induced_nuc_xpath = \"[z >= 24 and a - z >= 25 and z <= 30 and a - z <= 35]\"\n",
    "graph_attributes = {\n",
    "    \"labelloc\": \"t\",\n",
    "    \"fontsize\": 30,\n",
    "    \"fontcolor\": \"blue\",\n",
    "    \"outputorder\": \"edgesfirst\",\n",
    "}"
   ]
  },
  {
   "cell_type": "markdown",
   "metadata": {},
   "source": [
    "To distinguish different types of reactions, we set different types of reactions to different colors with color_tuples. "
   ]
  },
  {
   "cell_type": "code",
   "execution_count": null,
   "metadata": {},
   "outputs": [],
   "source": [
    "color_tuples = [\n",
    "    (\"[(reactant = 'h1' and product = 'n') or (reactant = 'n' and product = 'h1')]\", \"green\",),\n",
    "    (\"[(reactant = 'he4' and product = 'h1') or (reactant = 'h1' and product = 'he4')]\", \"red\",),\n",
    "    (\"[product = 'electron']\", \"blue\"),\n",
    "]"
   ]
  },
  {
   "cell_type": "markdown",
   "metadata": {},
   "source": [
    "We can also specify the edge attributions. Also, if you want to use one or more species as special elements, you can set the special attributes. Here $^{56}$Fe is an example.   "
   ]
  },
  {
   "cell_type": "code",
   "execution_count": null,
   "metadata": {},
   "outputs": [],
   "source": [
    "edge_attributes = {\"arrowsize\": 0.2}  # This is the default anyway\n",
    "\n",
    "special_attributes = {\n",
    "    \"fe56\": {\"fillcolor\": \"cyan\", \"shape\": \"oval\", \"style\": \"filled\"}\n",
    "}"
   ]
  },
  {
   "cell_type": "markdown",
   "metadata": {},
   "source": [
    "With all of the attributes set, we can create the dictionary of flow graphs.  The keys of the dictionary are zone labels."
   ]
  },
  {
   "cell_type": "code",
   "execution_count": null,
   "metadata": {},
   "outputs": [],
   "source": [
    "my_graphs = wn.graph.create_zone_flow_graphs(\n",
    "    net,\n",
    "    zone_20,\n",
    "    induced_nuc_xpath=induced_nuc_xpath,\n",
    "    reaction_color_tuples=color_tuples,\n",
    "    graph_attributes=graph_attributes,\n",
    "    allow_isolated_species=True,\n",
    "    edge_attributes=edge_attributes,\n",
    "    solar_species = [],\n",
    "    special_node_attributes=special_attributes,\n",
    ")"
   ]
  },
  {
   "cell_type": "markdown",
   "metadata": {},
   "source": [
    "Upon execution, this command will generate a dictionary [networkx](https://networkx.org) multidigraph. In this example, there is only one graph corresponding to zone 20.  The graph can be converted to [graphviz](https://graphviz.org) format and saved using the following command:"
   ]
  },
  {
   "cell_type": "code",
   "execution_count": null,
   "metadata": {},
   "outputs": [],
   "source": [
    "for zone in my_graphs:\n",
    "    A = nx.nx_agraph.to_agraph(my_graphs[zone])\n",
    "    A.layout()\n",
    "    A.draw('flow.png')"
   ]
  },
  {
   "cell_type": "markdown",
   "metadata": {},
   "source": [
    "To view this graph, we can use the Image displayer by typing:"
   ]
  },
  {
   "cell_type": "code",
   "execution_count": null,
   "metadata": {},
   "outputs": [],
   "source": [
    "Image(filename=('./flow.png'))"
   ]
  },
  {
   "cell_type": "markdown",
   "metadata": {},
   "source": [
    "### Integrated current graphs"
   ]
  },
  {
   "cell_type": "markdown",
   "metadata": {},
   "source": [
    "An integrated current graph shows the time-integrated flows for reactions during a network calculation.  That is, it shows the total number of nuclei per nucleon that underwent the given reaction with the thickness of the arrow showing the strength of the integrated current.  As with the flow graph, choose a set of nucides and set title properties."
   ]
  },
  {
   "cell_type": "code",
   "execution_count": null,
   "metadata": {},
   "outputs": [],
   "source": [
    "induced_nuc_xpath = \"[z >= 40 and z <= 52 and a >= 78]\"\n",
    "graph_attributes = {\n",
    "    \"labelloc\": \"t\",\n",
    "    \"fontsize\": 30,\n",
    "    \"fontcolor\": \"green\",\n",
    "}"
   ]
  },
  {
   "cell_type": "markdown",
   "metadata": {},
   "source": [
    "Now set some color tuples for reactions."
   ]
  },
  {
   "cell_type": "code",
   "execution_count": null,
   "metadata": {},
   "outputs": [],
   "source": [
    "color_tuples = [\n",
    "    (\"[product = 'positron']\", \"red\"),\n",
    "]"
   ]
  },
  {
   "cell_type": "markdown",
   "metadata": {},
   "source": [
    "Add attributes to special vertices (species).  Here we will use the [hexadecimal](https://www.w3schools.com/colors/colors_hexadecimal.asp) RGB scale for the colors."
   ]
  },
  {
   "cell_type": "code",
   "execution_count": null,
   "metadata": {},
   "outputs": [],
   "source": [
    "special_attributes = {\n",
    "    \"mo88\": {\"fillcolor\": \"#cccccc\", \"shape\": \"oval\", \"style\": \"filled\"},\n",
    "    \"pd110\": {\"fillcolor\": \"#009999\", \"shape\": \"diamond\", \"sytle\": \"filled\"}\n",
    "}\n",
    "node_attributes = {\"style\": \"filled\", \"fillcolor\": \"white\"}"
   ]
  },
  {
   "cell_type": "markdown",
   "metadata": {},
   "source": [
    "Choose the last zone since it contains the currents integrated over the full calculation."
   ]
  },
  {
   "cell_type": "code",
   "execution_count": null,
   "metadata": {},
   "outputs": [],
   "source": [
    "zone_last = zn.get_zones(zone_xpath=\"[position() = last()]\")"
   ]
  },
  {
   "cell_type": "markdown",
   "metadata": {},
   "source": [
    "Now create the dictionary of graphs."
   ]
  },
  {
   "cell_type": "code",
   "execution_count": null,
   "metadata": {},
   "outputs": [],
   "source": [
    "my_graphs = wn.graph.create_zone_integrated_current_graphs(\n",
    "    net,\n",
    "    zone_last,\n",
    "    induced_nuc_xpath=induced_nuc_xpath,\n",
    "    reaction_color_tuples=color_tuples,\n",
    "    graph_attributes=graph_attributes,\n",
    "    allow_isolated_species=False,\n",
    "    node_attributes=node_attributes,\n",
    "    edge_attributes=edge_attributes,\n",
    "    special_node_attributes=special_attributes,\n",
    ")"
   ]
  },
  {
   "cell_type": "markdown",
   "metadata": {},
   "source": [
    "Draw the graphs."
   ]
  },
  {
   "cell_type": "code",
   "execution_count": null,
   "metadata": {},
   "outputs": [],
   "source": [
    "for zone in my_graphs:\n",
    "    A = nx.nx_agraph.to_agraph(my_graphs[zone])\n",
    "    A.layout()\n",
    "    A.draw('current.png')"
   ]
  },
  {
   "cell_type": "markdown",
   "metadata": {},
   "source": [
    "The figure is left in the appropriate folder for direct access or download, but we can also view it."
   ]
  },
  {
   "cell_type": "code",
   "execution_count": null,
   "metadata": {},
   "outputs": [],
   "source": [
    "Image(filename=('./current.png'))"
   ]
  },
  {
   "cell_type": "code",
   "execution_count": null,
   "metadata": {},
   "outputs": [],
   "source": []
  },
  {
   "cell_type": "code",
   "execution_count": null,
   "metadata": {},
   "outputs": [],
   "source": []
  }
 ],
 "metadata": {
  "kernelspec": {
   "display_name": "Python 3 (ipykernel)",
   "language": "python",
   "name": "python3"
  },
  "language_info": {
   "codemirror_mode": {
    "name": "ipython",
    "version": 3
   },
   "file_extension": ".py",
   "mimetype": "text/x-python",
   "name": "python",
   "nbconvert_exporter": "python",
   "pygments_lexer": "ipython3",
   "version": "3.11.9"
  },
  "vscode": {
   "interpreter": {
    "hash": "7a792fcb311f9eb9f3c1b942a8c87ada8484712b89b670347c16a1088e0a1f69"
   }
  }
 },
 "nbformat": 4,
 "nbformat_minor": 2
}
